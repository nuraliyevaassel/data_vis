{
 "cells": [
  {
   "cell_type": "code",
   "execution_count": 1,
   "metadata": {},
   "outputs": [],
   "source": [
    "from nltk.corpus import wordnet as wn"
   ]
  },
  {
   "cell_type": "code",
   "execution_count": 2,
   "metadata": {},
   "outputs": [],
   "source": [
    "def closure_graph(synset,fn):\n",
    "    seen = set()\n",
    "    node = set()\n",
    "    edge = list()\n",
    "    \n",
    "    \n",
    "    def recurse(s):\n",
    "        if not s in seen:\n",
    "            seen.add(s)\n",
    "            print(s.lemma_names('eng')[0])\n",
    "            node.add(s.lemma_names('eng')[0])\n",
    "            for s1 in fn(s):\n",
    "                \n",
    "                node.add(s1.lemma_names('eng')[0])\n",
    "                edge.append({\"source\":s.lemma_names('eng')[0],\"target\":s1.lemma_names('eng')[0]})\n",
    "                recurse(s1)\n",
    "    recurse(synset)\n",
    "    return (list(node),edge)"
   ]
  },
  {
   "cell_type": "code",
   "execution_count": 5,
   "metadata": {},
   "outputs": [
    {
     "name": "stderr",
     "output_type": "stream",
     "text": [
      "[nltk_data] Downloading package wordnet to\n",
      "[nltk_data]     /Users/asselnuraliyeva/nltk_data...\n",
      "[nltk_data]   Unzipping corpora/wordnet.zip.\n"
     ]
    },
    {
     "name": "stdout",
     "output_type": "stream",
     "text": [
      "dog\n",
      "canine\n",
      "carnivore\n",
      "placental\n",
      "mammal\n",
      "vertebrate\n",
      "chordate\n",
      "animal\n",
      "organism\n",
      "living_thing\n",
      "whole\n",
      "object\n",
      "physical_entity\n",
      "entity\n",
      "domestic_animal\n"
     ]
    },
    {
     "data": {
      "text/plain": [
       "(['mammal',\n",
       "  'placental',\n",
       "  'entity',\n",
       "  'living_thing',\n",
       "  'physical_entity',\n",
       "  'dog',\n",
       "  'animal',\n",
       "  'domestic_animal',\n",
       "  'organism',\n",
       "  'canine',\n",
       "  'carnivore',\n",
       "  'vertebrate',\n",
       "  'chordate',\n",
       "  'object',\n",
       "  'whole'],\n",
       " [{'source': 'dog', 'target': 'canine'},\n",
       "  {'source': 'canine', 'target': 'carnivore'},\n",
       "  {'source': 'carnivore', 'target': 'placental'},\n",
       "  {'source': 'placental', 'target': 'mammal'},\n",
       "  {'source': 'mammal', 'target': 'vertebrate'},\n",
       "  {'source': 'vertebrate', 'target': 'chordate'},\n",
       "  {'source': 'chordate', 'target': 'animal'},\n",
       "  {'source': 'animal', 'target': 'organism'},\n",
       "  {'source': 'organism', 'target': 'living_thing'},\n",
       "  {'source': 'living_thing', 'target': 'whole'},\n",
       "  {'source': 'whole', 'target': 'object'},\n",
       "  {'source': 'object', 'target': 'physical_entity'},\n",
       "  {'source': 'physical_entity', 'target': 'entity'},\n",
       "  {'source': 'dog', 'target': 'domestic_animal'},\n",
       "  {'source': 'domestic_animal', 'target': 'animal'}])"
      ]
     },
     "execution_count": 5,
     "metadata": {},
     "output_type": "execute_result"
    }
   ],
   "source": [
    "import json\n",
    "import nltk\n",
    "nltk.download('wordnet')\n",
    "dog = wn.synset('dog.n.01')\n",
    "graph = closure_graph(dog,lambda s: s.hypernyms())\n",
    "graph"
   ]
  },
  {
   "cell_type": "code",
   "execution_count": 6,
   "metadata": {},
   "outputs": [
    {
     "name": "stdout",
     "output_type": "stream",
     "text": [
      "[{'id': 0, 'name': 'mammal'}, {'id': 1, 'name': 'placental'}, {'id': 2, 'name': 'entity'}, {'id': 3, 'name': 'living_thing'}, {'id': 4, 'name': 'physical_entity'}, {'id': 5, 'name': 'dog'}, {'id': 6, 'name': 'animal'}, {'id': 7, 'name': 'domestic_animal'}, {'id': 8, 'name': 'organism'}, {'id': 9, 'name': 'canine'}, {'id': 10, 'name': 'carnivore'}, {'id': 11, 'name': 'vertebrate'}, {'id': 12, 'name': 'chordate'}, {'id': 13, 'name': 'object'}, {'id': 14, 'name': 'whole'}]\n"
     ]
    }
   ],
   "source": [
    "vocabulary = []\n",
    "for token in graph[0]:\n",
    "    if token not in vocabulary:\n",
    "        vocabulary.append(token)\n",
    "json_1 = []\n",
    "for i in range(len(vocabulary)):\n",
    "    json_1.append({\"id\":i, \"name\": vocabulary[i]})\n",
    "\n",
    "vocabulary_size = len(vocabulary)\n",
    "print(json_1)"
   ]
  },
  {
   "cell_type": "code",
   "execution_count": 7,
   "metadata": {},
   "outputs": [],
   "source": [
    "json_2 = graph[1]\n",
    "for j in range(len(json_1)):\n",
    "    for i in range(len(graph[1])):    \n",
    "        if (json_1[j]['name'] ==  json_2[i]['source']):\n",
    "            json_2[i]['source'] = json_1[j]['id']\n",
    "        if (json_1[j]['name'] ==  json_2[i]['target']):\n",
    "            json_2[i]['target'] = json_1[j]['id']"
   ]
  },
  {
   "cell_type": "code",
   "execution_count": 8,
   "metadata": {},
   "outputs": [],
   "source": [
    "with open(\"wordnet.json\",\"w\") as fh:\n",
    "    json.dump({\"nodes\":json_1,\"links\":json_2},fh)"
   ]
  },
  {
   "cell_type": "code",
   "execution_count": 9,
   "metadata": {},
   "outputs": [],
   "source": [
    "def closure_graph(synset,fn):\n",
    "    seen = set()\n",
    "    node = set()\n",
    "    edge = list()\n",
    "    \n",
    "    \n",
    "    def recurse(s):\n",
    "        if not s in seen:\n",
    "            seen.add(s)\n",
    "            print(s.lemma_names('eng')[0])\n",
    "            node.add(s.lemma_names('eng')[0])\n",
    "            \n",
    "            for s_syn in s.lemma_names('eng'):\n",
    "                if not s_syn in seen:\n",
    "                    node.add(s_syn)\n",
    "                edge.append({\"source\":s.lemma_names('eng')[0],\"target\":s_syn, \"relation\":\"synonym\"})\n",
    "            \n",
    "            \n",
    "            for s1 in fn(s):\n",
    "                if not s1 in seen:\n",
    "                    node.add(s1.lemma_names('eng')[0])\n",
    "                edge.append({\"source\":s.lemma_names('eng')[0],\n",
    "                             \"target\":s1.lemma_names('eng')[0], \n",
    "                             \"relation\":\"hyperonym\"})\n",
    "                recurse(s1)\n",
    "    recurse(synset)\n",
    "    return (list(node),edge)"
   ]
  },
  {
   "cell_type": "code",
   "execution_count": 10,
   "metadata": {},
   "outputs": [
    {
     "name": "stdout",
     "output_type": "stream",
     "text": [
      "dog\n",
      "canine\n",
      "carnivore\n",
      "placental\n",
      "mammal\n",
      "vertebrate\n",
      "chordate\n",
      "animal\n",
      "organism\n",
      "living_thing\n",
      "whole\n",
      "object\n",
      "physical_entity\n",
      "entity\n",
      "domestic_animal\n"
     ]
    }
   ],
   "source": [
    "dog = wn.synset('dog.n.01')\n",
    "graph = closure_graph(dog,lambda s: s.hypernyms())"
   ]
  },
  {
   "cell_type": "code",
   "execution_count": 11,
   "metadata": {},
   "outputs": [
    {
     "data": {
      "text/plain": [
       "(['Canis_familiaris',\n",
       "  'placental',\n",
       "  'mammal',\n",
       "  'entity',\n",
       "  'animate_thing',\n",
       "  'craniate',\n",
       "  'creature',\n",
       "  'carnivore',\n",
       "  'unit',\n",
       "  'placental_mammal',\n",
       "  'living_thing',\n",
       "  'domestic_animal',\n",
       "  'domestic_dog',\n",
       "  'vertebrate',\n",
       "  'chordate',\n",
       "  'physical_object',\n",
       "  'being',\n",
       "  'eutherian_mammal',\n",
       "  'canid',\n",
       "  'domesticated_animal',\n",
       "  'eutherian',\n",
       "  'brute',\n",
       "  'mammalian',\n",
       "  'object',\n",
       "  'animate_being',\n",
       "  'physical_entity',\n",
       "  'dog',\n",
       "  'animal',\n",
       "  'fauna',\n",
       "  'canine',\n",
       "  'organism',\n",
       "  'beast',\n",
       "  'whole'],\n",
       " [{'source': 'dog', 'target': 'dog', 'relation': 'synonym'},\n",
       "  {'source': 'dog', 'target': 'domestic_dog', 'relation': 'synonym'},\n",
       "  {'source': 'dog', 'target': 'Canis_familiaris', 'relation': 'synonym'},\n",
       "  {'source': 'dog', 'target': 'canine', 'relation': 'hyperonym'},\n",
       "  {'source': 'canine', 'target': 'canine', 'relation': 'synonym'},\n",
       "  {'source': 'canine', 'target': 'canid', 'relation': 'synonym'},\n",
       "  {'source': 'canine', 'target': 'carnivore', 'relation': 'hyperonym'},\n",
       "  {'source': 'carnivore', 'target': 'carnivore', 'relation': 'synonym'},\n",
       "  {'source': 'carnivore', 'target': 'placental', 'relation': 'hyperonym'},\n",
       "  {'source': 'placental', 'target': 'placental', 'relation': 'synonym'},\n",
       "  {'source': 'placental', 'target': 'placental_mammal', 'relation': 'synonym'},\n",
       "  {'source': 'placental', 'target': 'eutherian', 'relation': 'synonym'},\n",
       "  {'source': 'placental', 'target': 'eutherian_mammal', 'relation': 'synonym'},\n",
       "  {'source': 'placental', 'target': 'mammal', 'relation': 'hyperonym'},\n",
       "  {'source': 'mammal', 'target': 'mammal', 'relation': 'synonym'},\n",
       "  {'source': 'mammal', 'target': 'mammalian', 'relation': 'synonym'},\n",
       "  {'source': 'mammal', 'target': 'vertebrate', 'relation': 'hyperonym'},\n",
       "  {'source': 'vertebrate', 'target': 'vertebrate', 'relation': 'synonym'},\n",
       "  {'source': 'vertebrate', 'target': 'craniate', 'relation': 'synonym'},\n",
       "  {'source': 'vertebrate', 'target': 'chordate', 'relation': 'hyperonym'},\n",
       "  {'source': 'chordate', 'target': 'chordate', 'relation': 'synonym'},\n",
       "  {'source': 'chordate', 'target': 'animal', 'relation': 'hyperonym'},\n",
       "  {'source': 'animal', 'target': 'animal', 'relation': 'synonym'},\n",
       "  {'source': 'animal', 'target': 'animate_being', 'relation': 'synonym'},\n",
       "  {'source': 'animal', 'target': 'beast', 'relation': 'synonym'},\n",
       "  {'source': 'animal', 'target': 'brute', 'relation': 'synonym'},\n",
       "  {'source': 'animal', 'target': 'creature', 'relation': 'synonym'},\n",
       "  {'source': 'animal', 'target': 'fauna', 'relation': 'synonym'},\n",
       "  {'source': 'animal', 'target': 'organism', 'relation': 'hyperonym'},\n",
       "  {'source': 'organism', 'target': 'organism', 'relation': 'synonym'},\n",
       "  {'source': 'organism', 'target': 'being', 'relation': 'synonym'},\n",
       "  {'source': 'organism', 'target': 'living_thing', 'relation': 'hyperonym'},\n",
       "  {'source': 'living_thing', 'target': 'living_thing', 'relation': 'synonym'},\n",
       "  {'source': 'living_thing', 'target': 'animate_thing', 'relation': 'synonym'},\n",
       "  {'source': 'living_thing', 'target': 'whole', 'relation': 'hyperonym'},\n",
       "  {'source': 'whole', 'target': 'whole', 'relation': 'synonym'},\n",
       "  {'source': 'whole', 'target': 'unit', 'relation': 'synonym'},\n",
       "  {'source': 'whole', 'target': 'object', 'relation': 'hyperonym'},\n",
       "  {'source': 'object', 'target': 'object', 'relation': 'synonym'},\n",
       "  {'source': 'object', 'target': 'physical_object', 'relation': 'synonym'},\n",
       "  {'source': 'object', 'target': 'physical_entity', 'relation': 'hyperonym'},\n",
       "  {'source': 'physical_entity',\n",
       "   'target': 'physical_entity',\n",
       "   'relation': 'synonym'},\n",
       "  {'source': 'physical_entity', 'target': 'entity', 'relation': 'hyperonym'},\n",
       "  {'source': 'entity', 'target': 'entity', 'relation': 'synonym'},\n",
       "  {'source': 'dog', 'target': 'domestic_animal', 'relation': 'hyperonym'},\n",
       "  {'source': 'domestic_animal',\n",
       "   'target': 'domestic_animal',\n",
       "   'relation': 'synonym'},\n",
       "  {'source': 'domestic_animal',\n",
       "   'target': 'domesticated_animal',\n",
       "   'relation': 'synonym'},\n",
       "  {'source': 'domestic_animal', 'target': 'animal', 'relation': 'hyperonym'}])"
      ]
     },
     "execution_count": 11,
     "metadata": {},
     "output_type": "execute_result"
    }
   ],
   "source": [
    "graph"
   ]
  },
  {
   "cell_type": "code",
   "execution_count": 12,
   "metadata": {},
   "outputs": [
    {
     "name": "stdout",
     "output_type": "stream",
     "text": [
      "48\n"
     ]
    }
   ],
   "source": [
    "enc = enumerate(graph[0])\n",
    "enc = list(enc)\n",
    "print(len(graph[1]))\n",
    "for i in range(0,len(graph[1])):\n",
    "    \n",
    "    for j in range(0,len(enc)):\n",
    "        if graph[1][i]['source']== enc[j][1]:\n",
    "            graph[1][i]['source']=enc[j][0]\n",
    "        if graph[1][i]['target']== enc[j][1]:\n",
    "            graph[1][i]['target']=enc[j][0]\n",
    "            \n",
    "for i in range(0,len(graph[0])):\n",
    "        for j in range(0,len(enc)):\n",
    "            if graph[0][i]== enc[j][1]:\n",
    "                graph[0][i]={\"id\":enc[j][0], \"name\":graph[0][i]}"
   ]
  },
  {
   "cell_type": "code",
   "execution_count": 13,
   "metadata": {},
   "outputs": [
    {
     "name": "stdout",
     "output_type": "stream",
     "text": [
      "graph[0] {'id': 0, 'name': 'Canis_familiaris'}\n",
      "graph[0] [{'id': 0, 'name': 'Canis_familiaris'}, {'id': 1, 'name': 'placental'}, {'id': 2, 'name': 'mammal'}, {'id': 3, 'name': 'entity'}, {'id': 4, 'name': 'animate_thing'}, {'id': 5, 'name': 'craniate'}, {'id': 6, 'name': 'creature'}, {'id': 7, 'name': 'carnivore'}, {'id': 8, 'name': 'unit'}, {'id': 9, 'name': 'placental_mammal'}, {'id': 10, 'name': 'living_thing'}, {'id': 11, 'name': 'domestic_animal'}, {'id': 12, 'name': 'domestic_dog'}, {'id': 13, 'name': 'vertebrate'}, {'id': 14, 'name': 'chordate'}, {'id': 15, 'name': 'physical_object'}, {'id': 16, 'name': 'being'}, {'id': 17, 'name': 'eutherian_mammal'}, {'id': 18, 'name': 'canid'}, {'id': 19, 'name': 'domesticated_animal'}, {'id': 20, 'name': 'eutherian'}, {'id': 21, 'name': 'brute'}, {'id': 22, 'name': 'mammalian'}, {'id': 23, 'name': 'object'}, {'id': 24, 'name': 'animate_being'}, {'id': 25, 'name': 'physical_entity'}, {'id': 26, 'name': 'dog'}, {'id': 27, 'name': 'animal'}, {'id': 28, 'name': 'fauna'}, {'id': 29, 'name': 'canine'}, {'id': 30, 'name': 'organism'}, {'id': 31, 'name': 'beast'}, {'id': 32, 'name': 'whole'}]\n"
     ]
    }
   ],
   "source": [
    "import json\n",
    "\n",
    "print('graph[0]', graph[0][0])\n",
    "with open(\"wordnet_final.json\",\"w\") as fh:\n",
    "    print('graph[0]', list(map(dict, graph[0])))\n",
    "    json.dump({\"node\": graph[0],\"edge\":graph[1]},fh)\n"
   ]
  },
  {
   "cell_type": "code",
   "execution_count": 15,
   "metadata": {},
   "outputs": [],
   "source": [
    "with open(\"wordnet2.json\",\"w\") as fh:\n",
    "    json.dump({\"nodes\":json_1,\"links\":json_2},fh)"
   ]
  },
  {
   "cell_type": "code",
   "execution_count": null,
   "metadata": {},
   "outputs": [],
   "source": []
  }
 ],
 "metadata": {
  "kernelspec": {
   "display_name": "Python 3",
   "language": "python",
   "name": "python3"
  },
  "language_info": {
   "codemirror_mode": {
    "name": "ipython",
    "version": 3
   },
   "file_extension": ".py",
   "mimetype": "text/x-python",
   "name": "python",
   "nbconvert_exporter": "python",
   "pygments_lexer": "ipython3",
   "version": "3.8.3"
  }
 },
 "nbformat": 4,
 "nbformat_minor": 4
}
