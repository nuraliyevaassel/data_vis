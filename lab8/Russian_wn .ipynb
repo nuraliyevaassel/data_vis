{
 "cells": [
  {
   "cell_type": "code",
   "execution_count": 1,
   "metadata": {},
   "outputs": [],
   "source": [
    "from wiki_ru_wordnet import WikiWordnet"
   ]
  },
  {
   "cell_type": "code",
   "execution_count": 2,
   "metadata": {},
   "outputs": [],
   "source": [
    "wikiwordnet = WikiWordnet()"
   ]
  },
  {
   "cell_type": "code",
   "execution_count": 3,
   "metadata": {},
   "outputs": [
    {
     "name": "stdout",
     "output_type": "stream",
     "text": [
      "{'собачий', 'псовый', 'пёсий'}\n",
      "{'домашнее животное'}\n",
      "{'домашнее животное'}\n",
      "{'волк', 'бирюк'}\n"
     ]
    }
   ],
   "source": [
    "synsets = wikiwordnet.get_synsets('собака')\n",
    "synset1 = synsets[0]\n",
    "for hypernym in wikiwordnet.get_hypernyms(synset1):\n",
    "    print({w.lemma() for w in hypernym.get_words()})"
   ]
  },
  {
   "cell_type": "code",
   "execution_count": 4,
   "metadata": {},
   "outputs": [
    {
     "name": "stdout",
     "output_type": "stream",
     "text": [
      "{'плохой', 'дурной', 'некачественный', 'нехороший', 'скверный'}\n"
     ]
    }
   ],
   "source": [
    "synsets = wikiwordnet.get_synsets('собачий')\n",
    "\n",
    "synset1 = synsets[0]\n",
    "for hypernym in wikiwordnet.get_hypernyms(synset1):\n",
    "    print({w.lemma() for w in hypernym.get_words()})"
   ]
  },
  {
   "cell_type": "code",
   "execution_count": 5,
   "metadata": {},
   "outputs": [
    {
     "name": "stdout",
     "output_type": "stream",
     "text": [
      "{'звериный'}\n"
     ]
    }
   ],
   "source": [
    "synsets = wikiwordnet.get_synsets('псовый')\n",
    "\n",
    "synset1 = synsets[0]\n",
    "for hypernym in wikiwordnet.get_hypernyms(synset1):\n",
    "    print({w.lemma() for w in hypernym.get_words()})"
   ]
  },
  {
   "cell_type": "code",
   "execution_count": 7,
   "metadata": {},
   "outputs": [
    {
     "name": "stdout",
     "output_type": "stream",
     "text": [
      "{'звериный'}\n"
     ]
    }
   ],
   "source": [
    "synsets = wikiwordnet.get_synsets('пёсий')\n",
    "\n",
    "synset1 = synsets[0]\n",
    "for hypernym in wikiwordnet.get_hypernyms(synset1):\n",
    "    print({w.lemma() for w in hypernym.get_words()})"
   ]
  },
  {
   "cell_type": "code",
   "execution_count": 8,
   "metadata": {},
   "outputs": [
    {
     "name": "stdout",
     "output_type": "stream",
     "text": [
      "{'животное'}\n"
     ]
    }
   ],
   "source": [
    "synsets = wikiwordnet.get_synsets('домашнее животное')\n",
    "\n",
    "synset1 = synsets[0]\n",
    "for hypernym in wikiwordnet.get_hypernyms(synset1):\n",
    "    print({w.lemma() for w in hypernym.get_words()})"
   ]
  },
  {
   "cell_type": "code",
   "execution_count": 9,
   "metadata": {},
   "outputs": [
    {
     "name": "stdout",
     "output_type": "stream",
     "text": [
      "{'существо', 'создание'}\n",
      "{'животина', 'тварь', 'скот', 'животное'}\n"
     ]
    }
   ],
   "source": [
    "synsets = wikiwordnet.get_synsets('животное')\n",
    "\n",
    "synset1 = synsets[0]\n",
    "for hypernym in wikiwordnet.get_hypernyms(synset1):\n",
    "    print({w.lemma() for w in hypernym.get_words()})"
   ]
  },
  {
   "cell_type": "code",
   "execution_count": 10,
   "metadata": {},
   "outputs": [],
   "source": [
    "synsets = wikiwordnet.get_synsets('животина')\n",
    "\n",
    "synset1 = synsets[0]\n",
    "for hypernym in wikiwordnet.get_hypernyms(synset1):\n",
    "    print({w.lemma() for w in hypernym.get_words()})"
   ]
  },
  {
   "cell_type": "code",
   "execution_count": 11,
   "metadata": {},
   "outputs": [
    {
     "name": "stdout",
     "output_type": "stream",
     "text": [
      "{'хищник'}\n",
      "{'зверь', 'млекопитающее'}\n"
     ]
    }
   ],
   "source": [
    "synsets = wikiwordnet.get_synsets('бирюк')\n",
    "\n",
    "synset1 = synsets[0]\n",
    "for hypernym in wikiwordnet.get_hypernyms(synset1):\n",
    "    print({w.lemma() for w in hypernym.get_words()})"
   ]
  },
  {
   "cell_type": "code",
   "execution_count": 12,
   "metadata": {},
   "outputs": [
    {
     "name": "stdout",
     "output_type": "stream",
     "text": [
      "{'позвоночное'}\n"
     ]
    }
   ],
   "source": [
    "synsets = wikiwordnet.get_synsets('зверь')\n",
    "\n",
    "synset1 = synsets[0]\n",
    "for hypernym in wikiwordnet.get_hypernyms(synset1):\n",
    "    print({w.lemma() for w in hypernym.get_words()})"
   ]
  },
  {
   "cell_type": "code",
   "execution_count": 13,
   "metadata": {},
   "outputs": [
    {
     "name": "stdout",
     "output_type": "stream",
     "text": [
      "{'животное'}\n",
      "{'живот'}\n"
     ]
    }
   ],
   "source": [
    "synsets = wikiwordnet.get_synsets('позвоночное')\n",
    "\n",
    "synset1 = synsets[0]\n",
    "for hypernym in wikiwordnet.get_hypernyms(synset1):\n",
    "    print({w.lemma() for w in hypernym.get_words()})"
   ]
  },
  {
   "cell_type": "code",
   "execution_count": null,
   "metadata": {},
   "outputs": [],
   "source": []
  }
 ],
 "metadata": {
  "kernelspec": {
   "display_name": "Python 3",
   "language": "python",
   "name": "python3"
  },
  "language_info": {
   "codemirror_mode": {
    "name": "ipython",
    "version": 3
   },
   "file_extension": ".py",
   "mimetype": "text/x-python",
   "name": "python",
   "nbconvert_exporter": "python",
   "pygments_lexer": "ipython3",
   "version": "3.8.3"
  }
 },
 "nbformat": 4,
 "nbformat_minor": 4
}
